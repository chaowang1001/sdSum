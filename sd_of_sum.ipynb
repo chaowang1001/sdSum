{
 "cells": [
  {
   "cell_type": "code",
   "execution_count": 1,
   "metadata": {
    "collapsed": true
   },
   "outputs": [],
   "source": [
    "#setup plotting and special functions\n",
    "%matplotlib inline\n",
    "import numpy as np\n",
    "import matplotlib.pyplot as plt\n",
    "from scipy import special\n",
    "from numpy import exp as exp"
   ]
  },
  {
   "cell_type": "markdown",
   "metadata": {},
   "source": [
    "## Define the conditional PDF using a gamma approximation\n",
    "\n",
    "To find the standard deviation of the random variable sum, $X = \\sum_{i=1}^{T_w} f(q_i)$, the co-variance function of $f$ is summed over all pairs of days for the season: $\\sigma_X = \\sqrt{\\sum_i \\sum_j \\text{Cov} \\left[f(Q_i), f(Q_j)\\right]}$\n",
    "\n",
    "In order obtain an expression for the co-variance function, $\\text{Cov}\\left[f(Q_i), f(Q_j)\\right]$, we require the PDF of $Q_i$ conditional on $Q_j$, or $p_{Q_i | Q_j}(q_i, q_j)$. This expression can be found as Equation 4 in *Viola et al* [2008, doi:10.1029/2007WR006371]. The hypergeometric function found in this equation is numerically unstable for large arguments. We therefore approximate the continous portion of $p_{Q_i | Q_j}(q_i, q_j)$ using an appropriately normalized and shifted gamma distribution. "
   ]
  },
  {
   "cell_type": "code",
   "execution_count": 2,
   "metadata": {
    "collapsed": false
   },
   "outputs": [],
   "source": [
    "gam = 0.25 # mean inverse discharge increment, in cm/day\n",
    "lam = 0.15  # poisson occurence frequency of recharge events, in days-1\n",
    "k = 0.3  # recession constant, in days-1\n",
    "tw = 100 # length in days over which sum is taken\n",
    "meanQ = lam/(k*gam)\n",
    "varQ = lam/(k*gam**2)\n",
    "\n",
    "# function for the mean of the transient PDF\n",
    "def get_tm(gam, lam, k, qj, tau=1):\n",
    "    ektau = exp(-k*tau)\n",
    "    return (lam - ektau*lam + ektau*gam*k*qj)/(gam*k)\n",
    "\n",
    "# function for the variance of the transient PDF\n",
    "def get_tv(gam, lam, k, qj, tau=1):\n",
    "    ektau = exp(-k*tau)\n",
    "    qi2 = ((-1 + ektau)**2*lam**2 + ektau**2*gam**2*k**2*qj**2 - (-1 + ektau)*k*lam*(1 + ektau + 2*ektau*gam*qj))/(gam**2*k**2)\n",
    "    mu = get_tm(gam, lam, k, qj, tau)\n",
    "    return qi2 - mu**2\n",
    "\n",
    "# get the shape parameter of the gamma distribution used to approximate the transient PDF\n",
    "def get_a(gam, lam, k, qj, tau=1):\n",
    "    ektau = exp(-k*tau)\n",
    "    elamtau = exp(-lam*tau)\n",
    "    tm = get_tm(gam, lam, k, qj, tau)\n",
    "    tv = get_tv(gam, lam, k, qj, tau)\n",
    "    return -((-(ektau*qj) + tm)**2/(elamtau*(-(ektau*qj) + tm)**2 + (-1 + elamtau)*tv))\n",
    "\n",
    "# get the scale parameter of the gamma distribution used to approximate the transient PDF\n",
    "def get_b(gam, lam, k, qj, tau=1):\n",
    "    ektau = exp(-k*tau)\n",
    "    elamtau = exp(-lam*tau)\n",
    "    tm = get_tm(gam, lam, k, qj, tau)\n",
    "    tv = get_tv(gam, lam, k, qj, tau)\n",
    "    return (elamtau*(-(ektau*qj) + tm))/(-1 + elamtau) - tv/(ektau*qj - tm)\n",
    "\n",
    "# function to return the transient PDF of qi given qj, with tau = abs(i-j)\n",
    "def qConditional(qj,qi,lam,k,gam,tau=1):\n",
    "    if qi < qj*exp(-k*tau): \n",
    "        p = 0 \n",
    "    else: \n",
    "        a = get_a(gam, lam, k, qj, tau)\n",
    "        b = get_b(gam, lam, k, qj, tau)\n",
    "        ektau = exp(-k*tau)\n",
    "        elamtau = exp(-lam*tau)\n",
    "        p = (1-elamtau)*b**(-a)*exp(-(qi-ektau*qj)/b)*(qi-ektau*qj)**(a-1)/special.gamma(a)\n",
    "    return p\n",
    "\n",
    "# steady state PDF of daily Q \n",
    "ss = lambda q: 1/(special.gamma(lam/k)*1/gam**(lam/k))*q**(lam/k-1)*np.exp(-q*gam)"
   ]
  },
  {
   "cell_type": "markdown",
   "metadata": {},
   "source": [
    "## User defined function\n",
    "\n",
    "The user defines a (required) power law function of the daily flow variable $(f)$ for which the co-variance will be computed. "
   ]
  },
  {
   "cell_type": "code",
   "execution_count": 3,
   "metadata": {
    "collapsed": false
   },
   "outputs": [],
   "source": [
    "# parameters of power law function\n",
    "args = [1.0, 1.5]\n",
    "def f(q,args):\n",
    "    return args[0]*q**args[1]\n",
    "\n",
    "# assuming the function f is power law,\n",
    "# the mean and variance of the daily value of \n",
    "# f are known analytically\n",
    "beta = args[0]; delta = args[1]\n",
    "mean_f = beta*gam**(lam/k - (delta*k+lam)/k)*special.gamma(delta+lam/k)/(special.gamma(lam/k))\n",
    "var_f = (beta**2*(-special.gamma(delta + lam/k)**2 + special.gamma(lam/k)*special.gamma(2*delta + lam/k)))/(gam**(2*delta)*special.gamma(lam/k)**2)"
   ]
  },
  {
   "cell_type": "markdown",
   "metadata": {},
   "source": [
    "## Integrating to get the variance of the sum"
   ]
  },
  {
   "cell_type": "code",
   "execution_count": 6,
   "metadata": {
    "collapsed": false
   },
   "outputs": [],
   "source": [
    "# for lag zero, the co-variance is just the variance of the daily variable\n",
    "cov_viola = [var_f]\n",
    "qvar = np.linspace(meanQ/1000.0, meanQ + 6*np.sqrt(varQ), 300)\n",
    "dq = qvar[1]-qvar[0]\n",
    "TAU = range(1,tw)\n",
    "\n",
    "# for all potential lags, compute covariance\n",
    "for tau in TAU:\n",
    "    PQQ = np.zeros((len(qvar),len(qvar)))\n",
    "    PQ = np.zeros((len(qvar),len(qvar)))\n",
    "    central = np.zeros((len(qvar),len(qvar)))\n",
    "    \n",
    "    # approximation to speed up computation; \n",
    "    # if the remaining lags will contribute negligibly \n",
    "    # to sigma_X, fill the remaining elements of the co-variance function\n",
    "    # with zero. \n",
    "    if (np.max([TAU[-1]-tau,1]))*cov_viola[-1] < var_f/100.0:\n",
    "        cov_viola[-1] = 0\n",
    "        cov_viola.append(0)\n",
    "    else:\n",
    "        for i,qOld in enumerate(qvar):   \n",
    "            for j,qNew in enumerate(qvar):\n",
    "                PQQ[i,j] = qConditional(qOld,qNew,lam,k,gam,tau)\n",
    "                PQ[i,j] = ss(qOld)\n",
    "                central[i,j] = ( f(qOld,args) - mean_f )*( f(qNew, args) - mean_f)\n",
    "                \n",
    "            # we must place an atom of probability capturing the fact that no rain is influencing the transition between days\n",
    "            # since our grid is linearly spaced, we will not have all the appropriate states -- just find the closest\n",
    "            J = np.argmin(np.abs(qvar-qOld*np.exp(-k*tau)))\n",
    "            PQQ[i,J] = np.exp(-lam*tau)/(dq) # divide by dq in order to model Dirac, since this is a 1-D PDF (with qOld fixed) \n",
    "        cov_viola.append(np.sum(central*PQQ*PQ*dq**2))\n",
    "    \n",
    "    \n",
    "#get variance of season flow sum, \\sum \\sum cov(f_i, f_j)\n",
    "mean_fsum = tw*mean_f\n",
    "variance_fsum = 0\n",
    "for i in range(tw):\n",
    "    for j in range(tw):\n",
    "        tau = np.abs(i-j)\n",
    "        variance_fsum += cov_viola[tau]\n",
    "\n",
    "sd_fsum = np.sqrt(variance_fsum)"
   ]
  },
  {
   "cell_type": "markdown",
   "metadata": {},
   "source": [
    "# Plot the co-variance function"
   ]
  },
  {
   "cell_type": "code",
   "execution_count": 10,
   "metadata": {
    "collapsed": false
   },
   "outputs": [
    {
     "name": "stdout",
     "output_type": "stream",
     "text": [
      "The standard deviation of the sum is 208.400052921\n"
     ]
    },
    {
     "data": {
      "image/png": "[encoded data removed]",
      "text/plain": [
       "<matplotlib.figure.Figure at 0x10f8f3450>"
      ]
     },
     "metadata": {},
     "output_type": "display_data"
    }
   ],
   "source": [
    " plt.plot(cov_viola)\n",
    "plt.xlabel(r'Lag $\\tau$ [days]', fontsize=12)\n",
    "plt.ylabel(r'Co-variance between $f_{t+\\tau}$ and $f_t$', fontsize=12)\n",
    "titlestr = 'The standard deviation of the sum is ' + str(sd_fsum)\n",
    "print(titlestr)"
   ]
  }
 ],
 "metadata": {
  "anaconda-cloud": {},
  "kernelspec": {
   "display_name": "Python [conda env:py2k_model]",
   "language": "python",
   "name": "conda-env-py2k_model-py"
  },
  "language_info": {
   "codemirror_mode": {
    "name": "ipython",
    "version": 2
   },
   "file_extension": ".py",
   "mimetype": "text/x-python",
   "name": "python",
   "nbconvert_exporter": "python",
   "pygments_lexer": "ipython2",
   "version": "2.7.12"
  }
 },
 "nbformat": 4,
 "nbformat_minor": 1
}
